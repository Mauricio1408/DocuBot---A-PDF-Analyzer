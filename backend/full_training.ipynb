{
 "cells": [
  {
   "cell_type": "code",
   "execution_count": 16,
   "id": "631b65d9",
   "metadata": {},
   "outputs": [],
   "source": [
    "import os\n",
    "import random\n",
    "import spacy\n",
    "from spacy.training import Example\n",
    "from spacy.tokens import DocBin\n",
    "from sklearn.metrics import classification_report\n",
    "from pathlib import Path"
   ]
  },
  {
   "cell_type": "code",
   "execution_count": 17,
   "id": "8b1d9f4d",
   "metadata": {},
   "outputs": [],
   "source": [
    "# === CONFIG ===\n",
    "DATA_DIR = \"AnchorNER_all\"\n",
    "TRAIN_RATIO = 0.8\n",
    "MODEL_OUTPUT = \"output_ner_model\""
   ]
  },
  {
   "cell_type": "code",
   "execution_count": 18,
   "id": "b0a2fb37",
   "metadata": {},
   "outputs": [],
   "source": [
    "# === Load all IOB-formatted files ===\n",
    "def load_conll_data(directory):\n",
    "    data = []\n",
    "    for file_name in os.listdir(directory):\n",
    "        if file_name.endswith(\".txt\"):\n",
    "            with open(os.path.join(directory, file_name), encoding=\"utf8\") as f:\n",
    "                words, labels = [], []\n",
    "                for line in f:\n",
    "                    line = line.strip()\n",
    "                    if not line:\n",
    "                        if words:\n",
    "                            data.append((words, labels))\n",
    "                            words, labels = [], []\n",
    "                    else:\n",
    "                        parts = line.split()\n",
    "                        if len(parts) == 2:\n",
    "                            words.append(parts[0])\n",
    "                            labels.append(parts[1])\n",
    "                if words:\n",
    "                    data.append((words, labels))\n",
    "    return data\n"
   ]
  },
  {
   "cell_type": "code",
   "execution_count": null,
   "id": "e9a3b2c0",
   "metadata": {},
   "outputs": [],
   "source": [
    "\n",
    "# === Convert to spaCy format ===\n",
    "def convert_to_spacy_format(data, nlp):\n",
    "    db = DocBin()\n",
    "    for words, labels in data:\n",
    "        doc = spacy.tokens.Doc(nlp.vocab, words=words)\n",
    "        ents = []\n",
    "        start = 0\n",
    "        for word, label in zip(words, labels):\n",
    "            end = start + len(word)\n",
    "            if label.startswith(\"B-\"):\n",
    "                ent_start = start\n",
    "                ent_label = label[2:]\n",
    "            elif label.startswith(\"I-\") and ents and ents[-1][2] == label[2:]:\n",
    "                ent_end = end\n",
    "                ents[-1] = (ents[-1][0], ent_end, ents[-1][2])\n",
    "                start = end + 1\n",
    "                continue\n",
    "            else:\n",
    "                ent_start = None\n",
    "                ent_label = None\n",
    "\n",
    "            if ent_start is not None:\n",
    "                ents.append((ent_start, end, ent_label))\n",
    "            start = end + 1\n",
    "\n",
    "        spans = [doc.char_span(start, end, label=label) for start, end, label in ents if doc.char_span(start, end, label=label)]\n",
    "        doc.ents = spans\n",
    "        db.add(doc)\n",
    "    return db"
   ]
  },
  {
   "cell_type": "code",
   "execution_count": null,
   "id": "ec01ad22",
   "metadata": {},
   "outputs": [],
   "source": [
    "\n",
    "# === Evaluation helper ===\n",
    "def evaluate(nlp, data):\n",
    "    y_true, y_pred = [], []\n",
    "    for words, labels in data:\n",
    "        doc = nlp(\" \".join(words))\n",
    "        pred_labels = [\"O\"] * len(words)\n",
    "        for ent in doc.ents:\n",
    "            ent_tokens = ent.text.split()\n",
    "            for i, token in enumerate(ent_tokens):\n",
    "                idx = words.index(token)  # assumes tokenization match\n",
    "                pred_labels[idx] = \"B-\" + ent.label_ if i == 0 else \"I-\" + ent.label_\n",
    "\n",
    "        y_true.extend(labels)\n",
    "        y_pred.extend(pred_labels)\n",
    "\n",
    "    print(\"\\nClassification Report:\\n\")\n",
    "    print(classification_report(y_true, y_pred))"
   ]
  },
  {
   "cell_type": "code",
   "execution_count": null,
   "id": "7bf001f4",
   "metadata": {},
   "outputs": [
    {
     "name": "stdout",
     "output_type": "stream",
     "text": [
      "📥 Loading data...\n"
     ]
    }
   ],
   "source": [
    "# === MAIN WORKFLOW ===\n",
    "if __name__ == \"__main__\":\n",
    "    random.seed(42)\n",
    "\n",
    "    print(\"Loading data...\")\n",
    "    raw_data = load_conll_data(DATA_DIR)\n",
    "    random.shuffle(raw_data)\n",
    "    split = int(len(raw_data) * TRAIN_RATIO)\n",
    "    train_data, eval_data = raw_data[:split], raw_data[split:]\n",
    "\n",
    "    # === Create blank spaCy model ===\n",
    "    print(\"📦 Creating blank English model...\")\n",
    "    nlp = spacy.blank(\"en\")\n",
    "    ner = nlp.add_pipe(\"ner\")\n",
    "    \n",
    "\n",
    "    # Collect labels for init\n",
    "    for _, labels in train_data:\n",
    "        for label in labels:\n",
    "            if label != \"O\":\n",
    "                ner.add_label(label[2:])\n",
    "\n",
    "    # === Convert and save training data ===\n",
    "    print(\"🧼 Converting to spaCy format...\")\n",
    "    train_bin = convert_to_spacy_format(train_data, nlp)\n",
    "    train_bin.to_disk(\"train.spacy\")\n",
    "\n",
    "    # === Training ===\n",
    "    print(\"🚀 Training model...\")\n",
    "    config = {\n",
    "        \"pipeline\": [\"ner\"],\n",
    "        \"training\": {\n",
    "            \"train_corpus\": {\"@readers\": \"spacy.Corpus.v1\", \"path\": \"train.spacy\"},\n",
    "            \"dev_corpus\": {\"@readers\": \"spacy.Corpus.v1\", \"path\": \"train.spacy\"},\n",
    "            \"max_steps\": 1000 #reduce to 2000 for faster training\n",
    "        }\n",
    "    }\n",
    "\n",
    "    # Use spaCy training CLI programmatically\n",
    "    import subprocess\n",
    "    subprocess.run([\n",
    "        \"python\", \"-m\", \"spacy\", \"train\",\n",
    "        \"config.cfg\",\n",
    "        \"--output\", MODEL_OUTPUT,\n",
    "        \"--paths.train\", \"train.spacy\",\n",
    "        \"--paths.dev\", \"train.spacy\"\n",
    "    ])\n",
    "\n",
    "    # === Load trained model and evaluate ===\n",
    "    print(\"📊 Evaluating trained model...\")\n",
    "    trained_nlp = spacy.load(os.path.join(MODEL_OUTPUT, \"model-best\"))\n",
    "    evaluate(trained_nlp, eval_data)"
   ]
  },
  {
   "cell_type": "code",
   "execution_count": null,
   "id": "9f37a710",
   "metadata": {},
   "outputs": [],
   "source": []
  }
 ],
 "metadata": {
  "kernelspec": {
   "display_name": "Python 3",
   "language": "python",
   "name": "python3"
  },
  "language_info": {
   "codemirror_mode": {
    "name": "ipython",
    "version": 3
   },
   "file_extension": ".py",
   "mimetype": "text/x-python",
   "name": "python",
   "nbconvert_exporter": "python",
   "pygments_lexer": "ipython3",
   "version": "3.10.0"
  }
 },
 "nbformat": 4,
 "nbformat_minor": 5
}
